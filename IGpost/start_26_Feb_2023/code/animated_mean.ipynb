{
 "cells": [
  {
   "cell_type": "code",
   "execution_count": 48,
   "metadata": {},
   "outputs": [],
   "source": [
    "\n",
    "import plotly.express as px\n",
    "df = px.data.gapminder()"
   ]
  },
  {
   "cell_type": "code",
   "execution_count": 49,
   "metadata": {},
   "outputs": [],
   "source": [
    "df=df[df['country']==\"India\"]"
   ]
  },
  {
   "cell_type": "code",
   "execution_count": 50,
   "metadata": {},
   "outputs": [
    {
     "data": {
      "text/html": [
       "<div>\n",
       "<style scoped>\n",
       "    .dataframe tbody tr th:only-of-type {\n",
       "        vertical-align: middle;\n",
       "    }\n",
       "\n",
       "    .dataframe tbody tr th {\n",
       "        vertical-align: top;\n",
       "    }\n",
       "\n",
       "    .dataframe thead th {\n",
       "        text-align: right;\n",
       "    }\n",
       "</style>\n",
       "<table border=\"1\" class=\"dataframe\">\n",
       "  <thead>\n",
       "    <tr style=\"text-align: right;\">\n",
       "      <th></th>\n",
       "      <th>country</th>\n",
       "      <th>continent</th>\n",
       "      <th>year</th>\n",
       "      <th>lifeExp</th>\n",
       "      <th>pop</th>\n",
       "      <th>gdpPercap</th>\n",
       "      <th>iso_alpha</th>\n",
       "      <th>iso_num</th>\n",
       "    </tr>\n",
       "  </thead>\n",
       "  <tbody>\n",
       "    <tr>\n",
       "      <th>696</th>\n",
       "      <td>India</td>\n",
       "      <td>Asia</td>\n",
       "      <td>1952</td>\n",
       "      <td>37.373</td>\n",
       "      <td>372000000</td>\n",
       "      <td>546.565749</td>\n",
       "      <td>IND</td>\n",
       "      <td>356</td>\n",
       "    </tr>\n",
       "    <tr>\n",
       "      <th>697</th>\n",
       "      <td>India</td>\n",
       "      <td>Asia</td>\n",
       "      <td>1957</td>\n",
       "      <td>40.249</td>\n",
       "      <td>409000000</td>\n",
       "      <td>590.061996</td>\n",
       "      <td>IND</td>\n",
       "      <td>356</td>\n",
       "    </tr>\n",
       "    <tr>\n",
       "      <th>698</th>\n",
       "      <td>India</td>\n",
       "      <td>Asia</td>\n",
       "      <td>1962</td>\n",
       "      <td>43.605</td>\n",
       "      <td>454000000</td>\n",
       "      <td>658.347151</td>\n",
       "      <td>IND</td>\n",
       "      <td>356</td>\n",
       "    </tr>\n",
       "    <tr>\n",
       "      <th>699</th>\n",
       "      <td>India</td>\n",
       "      <td>Asia</td>\n",
       "      <td>1967</td>\n",
       "      <td>47.193</td>\n",
       "      <td>506000000</td>\n",
       "      <td>700.770611</td>\n",
       "      <td>IND</td>\n",
       "      <td>356</td>\n",
       "    </tr>\n",
       "    <tr>\n",
       "      <th>700</th>\n",
       "      <td>India</td>\n",
       "      <td>Asia</td>\n",
       "      <td>1972</td>\n",
       "      <td>50.651</td>\n",
       "      <td>567000000</td>\n",
       "      <td>724.032527</td>\n",
       "      <td>IND</td>\n",
       "      <td>356</td>\n",
       "    </tr>\n",
       "    <tr>\n",
       "      <th>701</th>\n",
       "      <td>India</td>\n",
       "      <td>Asia</td>\n",
       "      <td>1977</td>\n",
       "      <td>54.208</td>\n",
       "      <td>634000000</td>\n",
       "      <td>813.337323</td>\n",
       "      <td>IND</td>\n",
       "      <td>356</td>\n",
       "    </tr>\n",
       "    <tr>\n",
       "      <th>702</th>\n",
       "      <td>India</td>\n",
       "      <td>Asia</td>\n",
       "      <td>1982</td>\n",
       "      <td>56.596</td>\n",
       "      <td>708000000</td>\n",
       "      <td>855.723538</td>\n",
       "      <td>IND</td>\n",
       "      <td>356</td>\n",
       "    </tr>\n",
       "    <tr>\n",
       "      <th>703</th>\n",
       "      <td>India</td>\n",
       "      <td>Asia</td>\n",
       "      <td>1987</td>\n",
       "      <td>58.553</td>\n",
       "      <td>788000000</td>\n",
       "      <td>976.512676</td>\n",
       "      <td>IND</td>\n",
       "      <td>356</td>\n",
       "    </tr>\n",
       "    <tr>\n",
       "      <th>704</th>\n",
       "      <td>India</td>\n",
       "      <td>Asia</td>\n",
       "      <td>1992</td>\n",
       "      <td>60.223</td>\n",
       "      <td>872000000</td>\n",
       "      <td>1164.406809</td>\n",
       "      <td>IND</td>\n",
       "      <td>356</td>\n",
       "    </tr>\n",
       "    <tr>\n",
       "      <th>705</th>\n",
       "      <td>India</td>\n",
       "      <td>Asia</td>\n",
       "      <td>1997</td>\n",
       "      <td>61.765</td>\n",
       "      <td>959000000</td>\n",
       "      <td>1458.817442</td>\n",
       "      <td>IND</td>\n",
       "      <td>356</td>\n",
       "    </tr>\n",
       "    <tr>\n",
       "      <th>706</th>\n",
       "      <td>India</td>\n",
       "      <td>Asia</td>\n",
       "      <td>2002</td>\n",
       "      <td>62.879</td>\n",
       "      <td>1034172547</td>\n",
       "      <td>1746.769454</td>\n",
       "      <td>IND</td>\n",
       "      <td>356</td>\n",
       "    </tr>\n",
       "    <tr>\n",
       "      <th>707</th>\n",
       "      <td>India</td>\n",
       "      <td>Asia</td>\n",
       "      <td>2007</td>\n",
       "      <td>64.698</td>\n",
       "      <td>1110396331</td>\n",
       "      <td>2452.210407</td>\n",
       "      <td>IND</td>\n",
       "      <td>356</td>\n",
       "    </tr>\n",
       "  </tbody>\n",
       "</table>\n",
       "</div>"
      ],
      "text/plain": [
       "    country continent  year  lifeExp         pop    gdpPercap iso_alpha  \\\n",
       "696   India      Asia  1952   37.373   372000000   546.565749       IND   \n",
       "697   India      Asia  1957   40.249   409000000   590.061996       IND   \n",
       "698   India      Asia  1962   43.605   454000000   658.347151       IND   \n",
       "699   India      Asia  1967   47.193   506000000   700.770611       IND   \n",
       "700   India      Asia  1972   50.651   567000000   724.032527       IND   \n",
       "701   India      Asia  1977   54.208   634000000   813.337323       IND   \n",
       "702   India      Asia  1982   56.596   708000000   855.723538       IND   \n",
       "703   India      Asia  1987   58.553   788000000   976.512676       IND   \n",
       "704   India      Asia  1992   60.223   872000000  1164.406809       IND   \n",
       "705   India      Asia  1997   61.765   959000000  1458.817442       IND   \n",
       "706   India      Asia  2002   62.879  1034172547  1746.769454       IND   \n",
       "707   India      Asia  2007   64.698  1110396331  2452.210407       IND   \n",
       "\n",
       "     iso_num  \n",
       "696      356  \n",
       "697      356  \n",
       "698      356  \n",
       "699      356  \n",
       "700      356  \n",
       "701      356  \n",
       "702      356  \n",
       "703      356  \n",
       "704      356  \n",
       "705      356  \n",
       "706      356  \n",
       "707      356  "
      ]
     },
     "execution_count": 50,
     "metadata": {},
     "output_type": "execute_result"
    }
   ],
   "source": [
    "df"
   ]
  },
  {
   "cell_type": "code",
   "execution_count": 52,
   "metadata": {},
   "outputs": [
    {
     "data": {
      "application/vnd.plotly.v1+json": {
       "config": {
        "plotlyServerURL": "https://plot.ly"
       },
       "data": [
        {
         "hovertemplate": "year=%{x}<br>lifeExp=%{y}<extra></extra>",
         "legendgroup": "",
         "line": {
          "color": "#636efa",
          "dash": "solid"
         },
         "marker": {
          "symbol": "circle"
         },
         "mode": "lines",
         "name": "",
         "orientation": "v",
         "showlegend": false,
         "type": "scatter",
         "x": [
          1952
         ],
         "xaxis": "x",
         "y": [
          37.37300000000001
         ],
         "yaxis": "y"
        }
       ],
       "frames": [
        {
         "data": [
          {
           "hovertemplate": "year=%{x}<br>lifeExp=%{y}<extra></extra>",
           "legendgroup": "",
           "line": {
            "color": "#636efa",
            "dash": "solid"
           },
           "marker": {
            "symbol": "circle"
           },
           "mode": "lines",
           "name": "",
           "orientation": "v",
           "showlegend": false,
           "type": "scatter",
           "x": [
            1952
           ],
           "xaxis": "x",
           "y": [
            37.37300000000001
           ],
           "yaxis": "y"
          }
         ],
         "name": "1952"
        },
        {
         "data": [
          {
           "hovertemplate": "year=%{x}<br>lifeExp=%{y}<extra></extra>",
           "legendgroup": "",
           "line": {
            "color": "#636efa",
            "dash": "solid"
           },
           "marker": {
            "symbol": "circle"
           },
           "mode": "lines",
           "name": "",
           "orientation": "v",
           "showlegend": false,
           "type": "scatter",
           "x": [
            1957
           ],
           "xaxis": "x",
           "y": [
            40.249
           ],
           "yaxis": "y"
          }
         ],
         "name": "1957"
        },
        {
         "data": [
          {
           "hovertemplate": "year=%{x}<br>lifeExp=%{y}<extra></extra>",
           "legendgroup": "",
           "line": {
            "color": "#636efa",
            "dash": "solid"
           },
           "marker": {
            "symbol": "circle"
           },
           "mode": "lines",
           "name": "",
           "orientation": "v",
           "showlegend": false,
           "type": "scatter",
           "x": [
            1962
           ],
           "xaxis": "x",
           "y": [
            43.605
           ],
           "yaxis": "y"
          }
         ],
         "name": "1962"
        },
        {
         "data": [
          {
           "hovertemplate": "year=%{x}<br>lifeExp=%{y}<extra></extra>",
           "legendgroup": "",
           "line": {
            "color": "#636efa",
            "dash": "solid"
           },
           "marker": {
            "symbol": "circle"
           },
           "mode": "lines",
           "name": "",
           "orientation": "v",
           "showlegend": false,
           "type": "scatter",
           "x": [
            1967
           ],
           "xaxis": "x",
           "y": [
            47.19300000000001
           ],
           "yaxis": "y"
          }
         ],
         "name": "1967"
        },
        {
         "data": [
          {
           "hovertemplate": "year=%{x}<br>lifeExp=%{y}<extra></extra>",
           "legendgroup": "",
           "line": {
            "color": "#636efa",
            "dash": "solid"
           },
           "marker": {
            "symbol": "circle"
           },
           "mode": "lines",
           "name": "",
           "orientation": "v",
           "showlegend": false,
           "type": "scatter",
           "x": [
            1972
           ],
           "xaxis": "x",
           "y": [
            50.651
           ],
           "yaxis": "y"
          }
         ],
         "name": "1972"
        },
        {
         "data": [
          {
           "hovertemplate": "year=%{x}<br>lifeExp=%{y}<extra></extra>",
           "legendgroup": "",
           "line": {
            "color": "#636efa",
            "dash": "solid"
           },
           "marker": {
            "symbol": "circle"
           },
           "mode": "lines",
           "name": "",
           "orientation": "v",
           "showlegend": false,
           "type": "scatter",
           "x": [
            1977
           ],
           "xaxis": "x",
           "y": [
            54.208
           ],
           "yaxis": "y"
          }
         ],
         "name": "1977"
        },
        {
         "data": [
          {
           "hovertemplate": "year=%{x}<br>lifeExp=%{y}<extra></extra>",
           "legendgroup": "",
           "line": {
            "color": "#636efa",
            "dash": "solid"
           },
           "marker": {
            "symbol": "circle"
           },
           "mode": "lines",
           "name": "",
           "orientation": "v",
           "showlegend": false,
           "type": "scatter",
           "x": [
            1982
           ],
           "xaxis": "x",
           "y": [
            56.596
           ],
           "yaxis": "y"
          }
         ],
         "name": "1982"
        },
        {
         "data": [
          {
           "hovertemplate": "year=%{x}<br>lifeExp=%{y}<extra></extra>",
           "legendgroup": "",
           "line": {
            "color": "#636efa",
            "dash": "solid"
           },
           "marker": {
            "symbol": "circle"
           },
           "mode": "lines",
           "name": "",
           "orientation": "v",
           "showlegend": false,
           "type": "scatter",
           "x": [
            1987
           ],
           "xaxis": "x",
           "y": [
            58.553
           ],
           "yaxis": "y"
          }
         ],
         "name": "1987"
        },
        {
         "data": [
          {
           "hovertemplate": "year=%{x}<br>lifeExp=%{y}<extra></extra>",
           "legendgroup": "",
           "line": {
            "color": "#636efa",
            "dash": "solid"
           },
           "marker": {
            "symbol": "circle"
           },
           "mode": "lines",
           "name": "",
           "orientation": "v",
           "showlegend": false,
           "type": "scatter",
           "x": [
            1992
           ],
           "xaxis": "x",
           "y": [
            60.223
           ],
           "yaxis": "y"
          }
         ],
         "name": "1992"
        },
        {
         "data": [
          {
           "hovertemplate": "year=%{x}<br>lifeExp=%{y}<extra></extra>",
           "legendgroup": "",
           "line": {
            "color": "#636efa",
            "dash": "solid"
           },
           "marker": {
            "symbol": "circle"
           },
           "mode": "lines",
           "name": "",
           "orientation": "v",
           "showlegend": false,
           "type": "scatter",
           "x": [
            1997
           ],
           "xaxis": "x",
           "y": [
            61.765
           ],
           "yaxis": "y"
          }
         ],
         "name": "1997"
        },
        {
         "data": [
          {
           "hovertemplate": "year=%{x}<br>lifeExp=%{y}<extra></extra>",
           "legendgroup": "",
           "line": {
            "color": "#636efa",
            "dash": "solid"
           },
           "marker": {
            "symbol": "circle"
           },
           "mode": "lines",
           "name": "",
           "orientation": "v",
           "showlegend": false,
           "type": "scatter",
           "x": [
            2002
           ],
           "xaxis": "x",
           "y": [
            62.879
           ],
           "yaxis": "y"
          }
         ],
         "name": "2002"
        },
        {
         "data": [
          {
           "hovertemplate": "year=%{x}<br>lifeExp=%{y}<extra></extra>",
           "legendgroup": "",
           "line": {
            "color": "#636efa",
            "dash": "solid"
           },
           "marker": {
            "symbol": "circle"
           },
           "mode": "lines",
           "name": "",
           "orientation": "v",
           "showlegend": false,
           "type": "scatter",
           "x": [
            2007
           ],
           "xaxis": "x",
           "y": [
            64.69800000000001
           ],
           "yaxis": "y"
          }
         ],
         "name": "2007"
        }
       ],
       "layout": {
        "legend": {
         "tracegroupgap": 0
        },
        "margin": {
         "t": 60
        },
        "sliders": [
         {
          "active": 0,
          "currentvalue": {
           "prefix": "year="
          },
          "len": 0.9,
          "pad": {
           "b": 10,
           "t": 60
          },
          "steps": [
           {
            "args": [
             [
              "1952"
             ],
             {
              "frame": {
               "duration": 0,
               "redraw": false
              },
              "fromcurrent": true,
              "mode": "immediate",
              "transition": {
               "duration": 0,
               "easing": "linear"
              }
             }
            ],
            "label": "1952",
            "method": "animate"
           },
           {
            "args": [
             [
              "1957"
             ],
             {
              "frame": {
               "duration": 0,
               "redraw": false
              },
              "fromcurrent": true,
              "mode": "immediate",
              "transition": {
               "duration": 0,
               "easing": "linear"
              }
             }
            ],
            "label": "1957",
            "method": "animate"
           },
           {
            "args": [
             [
              "1962"
             ],
             {
              "frame": {
               "duration": 0,
               "redraw": false
              },
              "fromcurrent": true,
              "mode": "immediate",
              "transition": {
               "duration": 0,
               "easing": "linear"
              }
             }
            ],
            "label": "1962",
            "method": "animate"
           },
           {
            "args": [
             [
              "1967"
             ],
             {
              "frame": {
               "duration": 0,
               "redraw": false
              },
              "fromcurrent": true,
              "mode": "immediate",
              "transition": {
               "duration": 0,
               "easing": "linear"
              }
             }
            ],
            "label": "1967",
            "method": "animate"
           },
           {
            "args": [
             [
              "1972"
             ],
             {
              "frame": {
               "duration": 0,
               "redraw": false
              },
              "fromcurrent": true,
              "mode": "immediate",
              "transition": {
               "duration": 0,
               "easing": "linear"
              }
             }
            ],
            "label": "1972",
            "method": "animate"
           },
           {
            "args": [
             [
              "1977"
             ],
             {
              "frame": {
               "duration": 0,
               "redraw": false
              },
              "fromcurrent": true,
              "mode": "immediate",
              "transition": {
               "duration": 0,
               "easing": "linear"
              }
             }
            ],
            "label": "1977",
            "method": "animate"
           },
           {
            "args": [
             [
              "1982"
             ],
             {
              "frame": {
               "duration": 0,
               "redraw": false
              },
              "fromcurrent": true,
              "mode": "immediate",
              "transition": {
               "duration": 0,
               "easing": "linear"
              }
             }
            ],
            "label": "1982",
            "method": "animate"
           },
           {
            "args": [
             [
              "1987"
             ],
             {
              "frame": {
               "duration": 0,
               "redraw": false
              },
              "fromcurrent": true,
              "mode": "immediate",
              "transition": {
               "duration": 0,
               "easing": "linear"
              }
             }
            ],
            "label": "1987",
            "method": "animate"
           },
           {
            "args": [
             [
              "1992"
             ],
             {
              "frame": {
               "duration": 0,
               "redraw": false
              },
              "fromcurrent": true,
              "mode": "immediate",
              "transition": {
               "duration": 0,
               "easing": "linear"
              }
             }
            ],
            "label": "1992",
            "method": "animate"
           },
           {
            "args": [
             [
              "1997"
             ],
             {
              "frame": {
               "duration": 0,
               "redraw": false
              },
              "fromcurrent": true,
              "mode": "immediate",
              "transition": {
               "duration": 0,
               "easing": "linear"
              }
             }
            ],
            "label": "1997",
            "method": "animate"
           },
           {
            "args": [
             [
              "2002"
             ],
             {
              "frame": {
               "duration": 0,
               "redraw": false
              },
              "fromcurrent": true,
              "mode": "immediate",
              "transition": {
               "duration": 0,
               "easing": "linear"
              }
             }
            ],
            "label": "2002",
            "method": "animate"
           },
           {
            "args": [
             [
              "2007"
             ],
             {
              "frame": {
               "duration": 0,
               "redraw": false
              },
              "fromcurrent": true,
              "mode": "immediate",
              "transition": {
               "duration": 0,
               "easing": "linear"
              }
             }
            ],
            "label": "2007",
            "method": "animate"
           }
          ],
          "x": 0.1,
          "xanchor": "left",
          "y": 0,
          "yanchor": "top"
         }
        ],
        "template": {
         "data": {
          "bar": [
           {
            "error_x": {
             "color": "#2a3f5f"
            },
            "error_y": {
             "color": "#2a3f5f"
            },
            "marker": {
             "line": {
              "color": "#E5ECF6",
              "width": 0.5
             },
             "pattern": {
              "fillmode": "overlay",
              "size": 10,
              "solidity": 0.2
             }
            },
            "type": "bar"
           }
          ],
          "barpolar": [
           {
            "marker": {
             "line": {
              "color": "#E5ECF6",
              "width": 0.5
             },
             "pattern": {
              "fillmode": "overlay",
              "size": 10,
              "solidity": 0.2
             }
            },
            "type": "barpolar"
           }
          ],
          "carpet": [
           {
            "aaxis": {
             "endlinecolor": "#2a3f5f",
             "gridcolor": "white",
             "linecolor": "white",
             "minorgridcolor": "white",
             "startlinecolor": "#2a3f5f"
            },
            "baxis": {
             "endlinecolor": "#2a3f5f",
             "gridcolor": "white",
             "linecolor": "white",
             "minorgridcolor": "white",
             "startlinecolor": "#2a3f5f"
            },
            "type": "carpet"
           }
          ],
          "choropleth": [
           {
            "colorbar": {
             "outlinewidth": 0,
             "ticks": ""
            },
            "type": "choropleth"
           }
          ],
          "contour": [
           {
            "colorbar": {
             "outlinewidth": 0,
             "ticks": ""
            },
            "colorscale": [
             [
              0,
              "#0d0887"
             ],
             [
              0.1111111111111111,
              "#46039f"
             ],
             [
              0.2222222222222222,
              "#7201a8"
             ],
             [
              0.3333333333333333,
              "#9c179e"
             ],
             [
              0.4444444444444444,
              "#bd3786"
             ],
             [
              0.5555555555555556,
              "#d8576b"
             ],
             [
              0.6666666666666666,
              "#ed7953"
             ],
             [
              0.7777777777777778,
              "#fb9f3a"
             ],
             [
              0.8888888888888888,
              "#fdca26"
             ],
             [
              1,
              "#f0f921"
             ]
            ],
            "type": "contour"
           }
          ],
          "contourcarpet": [
           {
            "colorbar": {
             "outlinewidth": 0,
             "ticks": ""
            },
            "type": "contourcarpet"
           }
          ],
          "heatmap": [
           {
            "colorbar": {
             "outlinewidth": 0,
             "ticks": ""
            },
            "colorscale": [
             [
              0,
              "#0d0887"
             ],
             [
              0.1111111111111111,
              "#46039f"
             ],
             [
              0.2222222222222222,
              "#7201a8"
             ],
             [
              0.3333333333333333,
              "#9c179e"
             ],
             [
              0.4444444444444444,
              "#bd3786"
             ],
             [
              0.5555555555555556,
              "#d8576b"
             ],
             [
              0.6666666666666666,
              "#ed7953"
             ],
             [
              0.7777777777777778,
              "#fb9f3a"
             ],
             [
              0.8888888888888888,
              "#fdca26"
             ],
             [
              1,
              "#f0f921"
             ]
            ],
            "type": "heatmap"
           }
          ],
          "heatmapgl": [
           {
            "colorbar": {
             "outlinewidth": 0,
             "ticks": ""
            },
            "colorscale": [
             [
              0,
              "#0d0887"
             ],
             [
              0.1111111111111111,
              "#46039f"
             ],
             [
              0.2222222222222222,
              "#7201a8"
             ],
             [
              0.3333333333333333,
              "#9c179e"
             ],
             [
              0.4444444444444444,
              "#bd3786"
             ],
             [
              0.5555555555555556,
              "#d8576b"
             ],
             [
              0.6666666666666666,
              "#ed7953"
             ],
             [
              0.7777777777777778,
              "#fb9f3a"
             ],
             [
              0.8888888888888888,
              "#fdca26"
             ],
             [
              1,
              "#f0f921"
             ]
            ],
            "type": "heatmapgl"
           }
          ],
          "histogram": [
           {
            "marker": {
             "pattern": {
              "fillmode": "overlay",
              "size": 10,
              "solidity": 0.2
             }
            },
            "type": "histogram"
           }
          ],
          "histogram2d": [
           {
            "colorbar": {
             "outlinewidth": 0,
             "ticks": ""
            },
            "colorscale": [
             [
              0,
              "#0d0887"
             ],
             [
              0.1111111111111111,
              "#46039f"
             ],
             [
              0.2222222222222222,
              "#7201a8"
             ],
             [
              0.3333333333333333,
              "#9c179e"
             ],
             [
              0.4444444444444444,
              "#bd3786"
             ],
             [
              0.5555555555555556,
              "#d8576b"
             ],
             [
              0.6666666666666666,
              "#ed7953"
             ],
             [
              0.7777777777777778,
              "#fb9f3a"
             ],
             [
              0.8888888888888888,
              "#fdca26"
             ],
             [
              1,
              "#f0f921"
             ]
            ],
            "type": "histogram2d"
           }
          ],
          "histogram2dcontour": [
           {
            "colorbar": {
             "outlinewidth": 0,
             "ticks": ""
            },
            "colorscale": [
             [
              0,
              "#0d0887"
             ],
             [
              0.1111111111111111,
              "#46039f"
             ],
             [
              0.2222222222222222,
              "#7201a8"
             ],
             [
              0.3333333333333333,
              "#9c179e"
             ],
             [
              0.4444444444444444,
              "#bd3786"
             ],
             [
              0.5555555555555556,
              "#d8576b"
             ],
             [
              0.6666666666666666,
              "#ed7953"
             ],
             [
              0.7777777777777778,
              "#fb9f3a"
             ],
             [
              0.8888888888888888,
              "#fdca26"
             ],
             [
              1,
              "#f0f921"
             ]
            ],
            "type": "histogram2dcontour"
           }
          ],
          "mesh3d": [
           {
            "colorbar": {
             "outlinewidth": 0,
             "ticks": ""
            },
            "type": "mesh3d"
           }
          ],
          "parcoords": [
           {
            "line": {
             "colorbar": {
              "outlinewidth": 0,
              "ticks": ""
             }
            },
            "type": "parcoords"
           }
          ],
          "pie": [
           {
            "automargin": true,
            "type": "pie"
           }
          ],
          "scatter": [
           {
            "fillpattern": {
             "fillmode": "overlay",
             "size": 10,
             "solidity": 0.2
            },
            "type": "scatter"
           }
          ],
          "scatter3d": [
           {
            "line": {
             "colorbar": {
              "outlinewidth": 0,
              "ticks": ""
             }
            },
            "marker": {
             "colorbar": {
              "outlinewidth": 0,
              "ticks": ""
             }
            },
            "type": "scatter3d"
           }
          ],
          "scattercarpet": [
           {
            "marker": {
             "colorbar": {
              "outlinewidth": 0,
              "ticks": ""
             }
            },
            "type": "scattercarpet"
           }
          ],
          "scattergeo": [
           {
            "marker": {
             "colorbar": {
              "outlinewidth": 0,
              "ticks": ""
             }
            },
            "type": "scattergeo"
           }
          ],
          "scattergl": [
           {
            "marker": {
             "colorbar": {
              "outlinewidth": 0,
              "ticks": ""
             }
            },
            "type": "scattergl"
           }
          ],
          "scattermapbox": [
           {
            "marker": {
             "colorbar": {
              "outlinewidth": 0,
              "ticks": ""
             }
            },
            "type": "scattermapbox"
           }
          ],
          "scatterpolar": [
           {
            "marker": {
             "colorbar": {
              "outlinewidth": 0,
              "ticks": ""
             }
            },
            "type": "scatterpolar"
           }
          ],
          "scatterpolargl": [
           {
            "marker": {
             "colorbar": {
              "outlinewidth": 0,
              "ticks": ""
             }
            },
            "type": "scatterpolargl"
           }
          ],
          "scatterternary": [
           {
            "marker": {
             "colorbar": {
              "outlinewidth": 0,
              "ticks": ""
             }
            },
            "type": "scatterternary"
           }
          ],
          "surface": [
           {
            "colorbar": {
             "outlinewidth": 0,
             "ticks": ""
            },
            "colorscale": [
             [
              0,
              "#0d0887"
             ],
             [
              0.1111111111111111,
              "#46039f"
             ],
             [
              0.2222222222222222,
              "#7201a8"
             ],
             [
              0.3333333333333333,
              "#9c179e"
             ],
             [
              0.4444444444444444,
              "#bd3786"
             ],
             [
              0.5555555555555556,
              "#d8576b"
             ],
             [
              0.6666666666666666,
              "#ed7953"
             ],
             [
              0.7777777777777778,
              "#fb9f3a"
             ],
             [
              0.8888888888888888,
              "#fdca26"
             ],
             [
              1,
              "#f0f921"
             ]
            ],
            "type": "surface"
           }
          ],
          "table": [
           {
            "cells": {
             "fill": {
              "color": "#EBF0F8"
             },
             "line": {
              "color": "white"
             }
            },
            "header": {
             "fill": {
              "color": "#C8D4E3"
             },
             "line": {
              "color": "white"
             }
            },
            "type": "table"
           }
          ]
         },
         "layout": {
          "annotationdefaults": {
           "arrowcolor": "#2a3f5f",
           "arrowhead": 0,
           "arrowwidth": 1
          },
          "autotypenumbers": "strict",
          "coloraxis": {
           "colorbar": {
            "outlinewidth": 0,
            "ticks": ""
           }
          },
          "colorscale": {
           "diverging": [
            [
             0,
             "#8e0152"
            ],
            [
             0.1,
             "#c51b7d"
            ],
            [
             0.2,
             "#de77ae"
            ],
            [
             0.3,
             "#f1b6da"
            ],
            [
             0.4,
             "#fde0ef"
            ],
            [
             0.5,
             "#f7f7f7"
            ],
            [
             0.6,
             "#e6f5d0"
            ],
            [
             0.7,
             "#b8e186"
            ],
            [
             0.8,
             "#7fbc41"
            ],
            [
             0.9,
             "#4d9221"
            ],
            [
             1,
             "#276419"
            ]
           ],
           "sequential": [
            [
             0,
             "#0d0887"
            ],
            [
             0.1111111111111111,
             "#46039f"
            ],
            [
             0.2222222222222222,
             "#7201a8"
            ],
            [
             0.3333333333333333,
             "#9c179e"
            ],
            [
             0.4444444444444444,
             "#bd3786"
            ],
            [
             0.5555555555555556,
             "#d8576b"
            ],
            [
             0.6666666666666666,
             "#ed7953"
            ],
            [
             0.7777777777777778,
             "#fb9f3a"
            ],
            [
             0.8888888888888888,
             "#fdca26"
            ],
            [
             1,
             "#f0f921"
            ]
           ],
           "sequentialminus": [
            [
             0,
             "#0d0887"
            ],
            [
             0.1111111111111111,
             "#46039f"
            ],
            [
             0.2222222222222222,
             "#7201a8"
            ],
            [
             0.3333333333333333,
             "#9c179e"
            ],
            [
             0.4444444444444444,
             "#bd3786"
            ],
            [
             0.5555555555555556,
             "#d8576b"
            ],
            [
             0.6666666666666666,
             "#ed7953"
            ],
            [
             0.7777777777777778,
             "#fb9f3a"
            ],
            [
             0.8888888888888888,
             "#fdca26"
            ],
            [
             1,
             "#f0f921"
            ]
           ]
          },
          "colorway": [
           "#636efa",
           "#EF553B",
           "#00cc96",
           "#ab63fa",
           "#FFA15A",
           "#19d3f3",
           "#FF6692",
           "#B6E880",
           "#FF97FF",
           "#FECB52"
          ],
          "font": {
           "color": "#2a3f5f"
          },
          "geo": {
           "bgcolor": "white",
           "lakecolor": "white",
           "landcolor": "#E5ECF6",
           "showlakes": true,
           "showland": true,
           "subunitcolor": "white"
          },
          "hoverlabel": {
           "align": "left"
          },
          "hovermode": "closest",
          "mapbox": {
           "style": "light"
          },
          "paper_bgcolor": "white",
          "plot_bgcolor": "#E5ECF6",
          "polar": {
           "angularaxis": {
            "gridcolor": "white",
            "linecolor": "white",
            "ticks": ""
           },
           "bgcolor": "#E5ECF6",
           "radialaxis": {
            "gridcolor": "white",
            "linecolor": "white",
            "ticks": ""
           }
          },
          "scene": {
           "xaxis": {
            "backgroundcolor": "#E5ECF6",
            "gridcolor": "white",
            "gridwidth": 2,
            "linecolor": "white",
            "showbackground": true,
            "ticks": "",
            "zerolinecolor": "white"
           },
           "yaxis": {
            "backgroundcolor": "#E5ECF6",
            "gridcolor": "white",
            "gridwidth": 2,
            "linecolor": "white",
            "showbackground": true,
            "ticks": "",
            "zerolinecolor": "white"
           },
           "zaxis": {
            "backgroundcolor": "#E5ECF6",
            "gridcolor": "white",
            "gridwidth": 2,
            "linecolor": "white",
            "showbackground": true,
            "ticks": "",
            "zerolinecolor": "white"
           }
          },
          "shapedefaults": {
           "line": {
            "color": "#2a3f5f"
           }
          },
          "ternary": {
           "aaxis": {
            "gridcolor": "white",
            "linecolor": "white",
            "ticks": ""
           },
           "baxis": {
            "gridcolor": "white",
            "linecolor": "white",
            "ticks": ""
           },
           "bgcolor": "#E5ECF6",
           "caxis": {
            "gridcolor": "white",
            "linecolor": "white",
            "ticks": ""
           }
          },
          "title": {
           "x": 0.05
          },
          "xaxis": {
           "automargin": true,
           "gridcolor": "white",
           "linecolor": "white",
           "ticks": "",
           "title": {
            "standoff": 15
           },
           "zerolinecolor": "white",
           "zerolinewidth": 2
          },
          "yaxis": {
           "automargin": true,
           "gridcolor": "white",
           "linecolor": "white",
           "ticks": "",
           "title": {
            "standoff": 15
           },
           "zerolinecolor": "white",
           "zerolinewidth": 2
          }
         }
        },
        "updatemenus": [
         {
          "buttons": [
           {
            "args": [
             null,
             {
              "frame": {
               "duration": 500,
               "redraw": false
              },
              "fromcurrent": true,
              "mode": "immediate",
              "transition": {
               "duration": 500,
               "easing": "linear"
              }
             }
            ],
            "label": "&#9654;",
            "method": "animate"
           },
           {
            "args": [
             [
              null
             ],
             {
              "frame": {
               "duration": 0,
               "redraw": false
              },
              "fromcurrent": true,
              "mode": "immediate",
              "transition": {
               "duration": 0,
               "easing": "linear"
              }
             }
            ],
            "label": "&#9724;",
            "method": "animate"
           }
          ],
          "direction": "left",
          "pad": {
           "r": 10,
           "t": 70
          },
          "showactive": false,
          "type": "buttons",
          "x": 0.1,
          "xanchor": "right",
          "y": 0,
          "yanchor": "top"
         }
        ],
        "xaxis": {
         "anchor": "y",
         "categoryarray": [
          1952,
          1957,
          1962,
          1967,
          1972,
          1977,
          1982,
          1987,
          1992,
          1997,
          2002,
          2007
         ],
         "categoryorder": "array",
         "domain": [
          0,
          1
         ],
         "title": {
          "text": "year"
         }
        },
        "yaxis": {
         "anchor": "x",
         "domain": [
          0,
          1
         ],
         "title": {
          "text": "lifeExp"
         }
        }
       }
      }
     },
     "metadata": {},
     "output_type": "display_data"
    }
   ],
   "source": [
    "\n",
    "fig=px.line(df, x=\"year\", y=\"lifeExp\",animation_frame=\"year\")\n",
    "\n",
    "fig.layout.updatemenus[0].buttons[0].args[1][\"frame\"][\"duration\"] = 500\n",
    "fig.layout.updatemenus[0].buttons[0].args[1][\"transition\"][\"duration\"] = 500\n",
    "\n",
    "fig.show()"
   ]
  },
  {
   "cell_type": "code",
   "execution_count": 45,
   "metadata": {},
   "outputs": [
    {
     "data": {
      "application/vnd.plotly.v1+json": {
       "config": {
        "plotlyServerURL": "https://plot.ly"
       },
       "data": [
        {
         "hovertemplate": "x=%{x}<br>y=%{y}<extra></extra>",
         "legendgroup": "",
         "line": {
          "color": "#636efa",
          "dash": "solid"
         },
         "marker": {
          "symbol": "circle"
         },
         "mode": "lines",
         "name": "",
         "orientation": "v",
         "showlegend": false,
         "type": "scatter",
         "x": [
          1
         ],
         "xaxis": "x",
         "y": [
          1
         ],
         "yaxis": "y"
        }
       ],
       "frames": [
        {
         "data": [
          {
           "hovertemplate": "x=%{x}<br>y=%{y}<extra></extra>",
           "legendgroup": "",
           "line": {
            "color": "#636efa",
            "dash": "solid"
           },
           "marker": {
            "symbol": "circle"
           },
           "mode": "lines",
           "name": "",
           "orientation": "v",
           "showlegend": false,
           "type": "scatter",
           "x": [
            1
           ],
           "xaxis": "x",
           "y": [
            1
           ],
           "yaxis": "y"
          }
         ],
         "name": "1"
        },
        {
         "data": [
          {
           "hovertemplate": "x=%{x}<br>y=%{y}<extra></extra>",
           "legendgroup": "",
           "line": {
            "color": "#636efa",
            "dash": "solid"
           },
           "marker": {
            "symbol": "circle"
           },
           "mode": "lines",
           "name": "",
           "orientation": "v",
           "showlegend": false,
           "type": "scatter",
           "x": [
            2
           ],
           "xaxis": "x",
           "y": [
            3
           ],
           "yaxis": "y"
          }
         ],
         "name": "2"
        },
        {
         "data": [
          {
           "hovertemplate": "x=%{x}<br>y=%{y}<extra></extra>",
           "legendgroup": "",
           "line": {
            "color": "#636efa",
            "dash": "solid"
           },
           "marker": {
            "symbol": "circle"
           },
           "mode": "lines",
           "name": "",
           "orientation": "v",
           "showlegend": false,
           "type": "scatter",
           "x": [
            3
           ],
           "xaxis": "x",
           "y": [
            2
           ],
           "yaxis": "y"
          }
         ],
         "name": "3"
        },
        {
         "data": [
          {
           "hovertemplate": "x=%{x}<br>y=%{y}<extra></extra>",
           "legendgroup": "",
           "line": {
            "color": "#636efa",
            "dash": "solid"
           },
           "marker": {
            "symbol": "circle"
           },
           "mode": "lines",
           "name": "",
           "orientation": "v",
           "showlegend": false,
           "type": "scatter",
           "x": [
            4
           ],
           "xaxis": "x",
           "y": [
            4
           ],
           "yaxis": "y"
          }
         ],
         "name": "4"
        },
        {
         "data": [
          {
           "hovertemplate": "x=%{x}<br>y=%{y}<extra></extra>",
           "legendgroup": "",
           "line": {
            "color": "#636efa",
            "dash": "solid"
           },
           "marker": {
            "symbol": "circle"
           },
           "mode": "lines",
           "name": "",
           "orientation": "v",
           "showlegend": false,
           "type": "scatter",
           "x": [
            5
           ],
           "xaxis": "x",
           "y": [
            3
           ],
           "yaxis": "y"
          }
         ],
         "name": "5"
        }
       ],
       "layout": {
        "legend": {
         "tracegroupgap": 0
        },
        "margin": {
         "t": 60
        },
        "sliders": [
         {
          "active": 0,
          "currentvalue": {
           "prefix": "x="
          },
          "len": 0.9,
          "pad": {
           "b": 10,
           "t": 60
          },
          "steps": [
           {
            "args": [
             [
              "1"
             ],
             {
              "frame": {
               "duration": 0,
               "redraw": false
              },
              "fromcurrent": true,
              "mode": "immediate",
              "transition": {
               "duration": 0,
               "easing": "linear"
              }
             }
            ],
            "label": "1",
            "method": "animate"
           },
           {
            "args": [
             [
              "2"
             ],
             {
              "frame": {
               "duration": 0,
               "redraw": false
              },
              "fromcurrent": true,
              "mode": "immediate",
              "transition": {
               "duration": 0,
               "easing": "linear"
              }
             }
            ],
            "label": "2",
            "method": "animate"
           },
           {
            "args": [
             [
              "3"
             ],
             {
              "frame": {
               "duration": 0,
               "redraw": false
              },
              "fromcurrent": true,
              "mode": "immediate",
              "transition": {
               "duration": 0,
               "easing": "linear"
              }
             }
            ],
            "label": "3",
            "method": "animate"
           },
           {
            "args": [
             [
              "4"
             ],
             {
              "frame": {
               "duration": 0,
               "redraw": false
              },
              "fromcurrent": true,
              "mode": "immediate",
              "transition": {
               "duration": 0,
               "easing": "linear"
              }
             }
            ],
            "label": "4",
            "method": "animate"
           },
           {
            "args": [
             [
              "5"
             ],
             {
              "frame": {
               "duration": 0,
               "redraw": false
              },
              "fromcurrent": true,
              "mode": "immediate",
              "transition": {
               "duration": 0,
               "easing": "linear"
              }
             }
            ],
            "label": "5",
            "method": "animate"
           }
          ],
          "x": 0.1,
          "xanchor": "left",
          "y": 0,
          "yanchor": "top"
         }
        ],
        "template": {
         "data": {
          "bar": [
           {
            "error_x": {
             "color": "#2a3f5f"
            },
            "error_y": {
             "color": "#2a3f5f"
            },
            "marker": {
             "line": {
              "color": "#E5ECF6",
              "width": 0.5
             },
             "pattern": {
              "fillmode": "overlay",
              "size": 10,
              "solidity": 0.2
             }
            },
            "type": "bar"
           }
          ],
          "barpolar": [
           {
            "marker": {
             "line": {
              "color": "#E5ECF6",
              "width": 0.5
             },
             "pattern": {
              "fillmode": "overlay",
              "size": 10,
              "solidity": 0.2
             }
            },
            "type": "barpolar"
           }
          ],
          "carpet": [
           {
            "aaxis": {
             "endlinecolor": "#2a3f5f",
             "gridcolor": "white",
             "linecolor": "white",
             "minorgridcolor": "white",
             "startlinecolor": "#2a3f5f"
            },
            "baxis": {
             "endlinecolor": "#2a3f5f",
             "gridcolor": "white",
             "linecolor": "white",
             "minorgridcolor": "white",
             "startlinecolor": "#2a3f5f"
            },
            "type": "carpet"
           }
          ],
          "choropleth": [
           {
            "colorbar": {
             "outlinewidth": 0,
             "ticks": ""
            },
            "type": "choropleth"
           }
          ],
          "contour": [
           {
            "colorbar": {
             "outlinewidth": 0,
             "ticks": ""
            },
            "colorscale": [
             [
              0,
              "#0d0887"
             ],
             [
              0.1111111111111111,
              "#46039f"
             ],
             [
              0.2222222222222222,
              "#7201a8"
             ],
             [
              0.3333333333333333,
              "#9c179e"
             ],
             [
              0.4444444444444444,
              "#bd3786"
             ],
             [
              0.5555555555555556,
              "#d8576b"
             ],
             [
              0.6666666666666666,
              "#ed7953"
             ],
             [
              0.7777777777777778,
              "#fb9f3a"
             ],
             [
              0.8888888888888888,
              "#fdca26"
             ],
             [
              1,
              "#f0f921"
             ]
            ],
            "type": "contour"
           }
          ],
          "contourcarpet": [
           {
            "colorbar": {
             "outlinewidth": 0,
             "ticks": ""
            },
            "type": "contourcarpet"
           }
          ],
          "heatmap": [
           {
            "colorbar": {
             "outlinewidth": 0,
             "ticks": ""
            },
            "colorscale": [
             [
              0,
              "#0d0887"
             ],
             [
              0.1111111111111111,
              "#46039f"
             ],
             [
              0.2222222222222222,
              "#7201a8"
             ],
             [
              0.3333333333333333,
              "#9c179e"
             ],
             [
              0.4444444444444444,
              "#bd3786"
             ],
             [
              0.5555555555555556,
              "#d8576b"
             ],
             [
              0.6666666666666666,
              "#ed7953"
             ],
             [
              0.7777777777777778,
              "#fb9f3a"
             ],
             [
              0.8888888888888888,
              "#fdca26"
             ],
             [
              1,
              "#f0f921"
             ]
            ],
            "type": "heatmap"
           }
          ],
          "heatmapgl": [
           {
            "colorbar": {
             "outlinewidth": 0,
             "ticks": ""
            },
            "colorscale": [
             [
              0,
              "#0d0887"
             ],
             [
              0.1111111111111111,
              "#46039f"
             ],
             [
              0.2222222222222222,
              "#7201a8"
             ],
             [
              0.3333333333333333,
              "#9c179e"
             ],
             [
              0.4444444444444444,
              "#bd3786"
             ],
             [
              0.5555555555555556,
              "#d8576b"
             ],
             [
              0.6666666666666666,
              "#ed7953"
             ],
             [
              0.7777777777777778,
              "#fb9f3a"
             ],
             [
              0.8888888888888888,
              "#fdca26"
             ],
             [
              1,
              "#f0f921"
             ]
            ],
            "type": "heatmapgl"
           }
          ],
          "histogram": [
           {
            "marker": {
             "pattern": {
              "fillmode": "overlay",
              "size": 10,
              "solidity": 0.2
             }
            },
            "type": "histogram"
           }
          ],
          "histogram2d": [
           {
            "colorbar": {
             "outlinewidth": 0,
             "ticks": ""
            },
            "colorscale": [
             [
              0,
              "#0d0887"
             ],
             [
              0.1111111111111111,
              "#46039f"
             ],
             [
              0.2222222222222222,
              "#7201a8"
             ],
             [
              0.3333333333333333,
              "#9c179e"
             ],
             [
              0.4444444444444444,
              "#bd3786"
             ],
             [
              0.5555555555555556,
              "#d8576b"
             ],
             [
              0.6666666666666666,
              "#ed7953"
             ],
             [
              0.7777777777777778,
              "#fb9f3a"
             ],
             [
              0.8888888888888888,
              "#fdca26"
             ],
             [
              1,
              "#f0f921"
             ]
            ],
            "type": "histogram2d"
           }
          ],
          "histogram2dcontour": [
           {
            "colorbar": {
             "outlinewidth": 0,
             "ticks": ""
            },
            "colorscale": [
             [
              0,
              "#0d0887"
             ],
             [
              0.1111111111111111,
              "#46039f"
             ],
             [
              0.2222222222222222,
              "#7201a8"
             ],
             [
              0.3333333333333333,
              "#9c179e"
             ],
             [
              0.4444444444444444,
              "#bd3786"
             ],
             [
              0.5555555555555556,
              "#d8576b"
             ],
             [
              0.6666666666666666,
              "#ed7953"
             ],
             [
              0.7777777777777778,
              "#fb9f3a"
             ],
             [
              0.8888888888888888,
              "#fdca26"
             ],
             [
              1,
              "#f0f921"
             ]
            ],
            "type": "histogram2dcontour"
           }
          ],
          "mesh3d": [
           {
            "colorbar": {
             "outlinewidth": 0,
             "ticks": ""
            },
            "type": "mesh3d"
           }
          ],
          "parcoords": [
           {
            "line": {
             "colorbar": {
              "outlinewidth": 0,
              "ticks": ""
             }
            },
            "type": "parcoords"
           }
          ],
          "pie": [
           {
            "automargin": true,
            "type": "pie"
           }
          ],
          "scatter": [
           {
            "fillpattern": {
             "fillmode": "overlay",
             "size": 10,
             "solidity": 0.2
            },
            "type": "scatter"
           }
          ],
          "scatter3d": [
           {
            "line": {
             "colorbar": {
              "outlinewidth": 0,
              "ticks": ""
             }
            },
            "marker": {
             "colorbar": {
              "outlinewidth": 0,
              "ticks": ""
             }
            },
            "type": "scatter3d"
           }
          ],
          "scattercarpet": [
           {
            "marker": {
             "colorbar": {
              "outlinewidth": 0,
              "ticks": ""
             }
            },
            "type": "scattercarpet"
           }
          ],
          "scattergeo": [
           {
            "marker": {
             "colorbar": {
              "outlinewidth": 0,
              "ticks": ""
             }
            },
            "type": "scattergeo"
           }
          ],
          "scattergl": [
           {
            "marker": {
             "colorbar": {
              "outlinewidth": 0,
              "ticks": ""
             }
            },
            "type": "scattergl"
           }
          ],
          "scattermapbox": [
           {
            "marker": {
             "colorbar": {
              "outlinewidth": 0,
              "ticks": ""
             }
            },
            "type": "scattermapbox"
           }
          ],
          "scatterpolar": [
           {
            "marker": {
             "colorbar": {
              "outlinewidth": 0,
              "ticks": ""
             }
            },
            "type": "scatterpolar"
           }
          ],
          "scatterpolargl": [
           {
            "marker": {
             "colorbar": {
              "outlinewidth": 0,
              "ticks": ""
             }
            },
            "type": "scatterpolargl"
           }
          ],
          "scatterternary": [
           {
            "marker": {
             "colorbar": {
              "outlinewidth": 0,
              "ticks": ""
             }
            },
            "type": "scatterternary"
           }
          ],
          "surface": [
           {
            "colorbar": {
             "outlinewidth": 0,
             "ticks": ""
            },
            "colorscale": [
             [
              0,
              "#0d0887"
             ],
             [
              0.1111111111111111,
              "#46039f"
             ],
             [
              0.2222222222222222,
              "#7201a8"
             ],
             [
              0.3333333333333333,
              "#9c179e"
             ],
             [
              0.4444444444444444,
              "#bd3786"
             ],
             [
              0.5555555555555556,
              "#d8576b"
             ],
             [
              0.6666666666666666,
              "#ed7953"
             ],
             [
              0.7777777777777778,
              "#fb9f3a"
             ],
             [
              0.8888888888888888,
              "#fdca26"
             ],
             [
              1,
              "#f0f921"
             ]
            ],
            "type": "surface"
           }
          ],
          "table": [
           {
            "cells": {
             "fill": {
              "color": "#EBF0F8"
             },
             "line": {
              "color": "white"
             }
            },
            "header": {
             "fill": {
              "color": "#C8D4E3"
             },
             "line": {
              "color": "white"
             }
            },
            "type": "table"
           }
          ]
         },
         "layout": {
          "annotationdefaults": {
           "arrowcolor": "#2a3f5f",
           "arrowhead": 0,
           "arrowwidth": 1
          },
          "autotypenumbers": "strict",
          "coloraxis": {
           "colorbar": {
            "outlinewidth": 0,
            "ticks": ""
           }
          },
          "colorscale": {
           "diverging": [
            [
             0,
             "#8e0152"
            ],
            [
             0.1,
             "#c51b7d"
            ],
            [
             0.2,
             "#de77ae"
            ],
            [
             0.3,
             "#f1b6da"
            ],
            [
             0.4,
             "#fde0ef"
            ],
            [
             0.5,
             "#f7f7f7"
            ],
            [
             0.6,
             "#e6f5d0"
            ],
            [
             0.7,
             "#b8e186"
            ],
            [
             0.8,
             "#7fbc41"
            ],
            [
             0.9,
             "#4d9221"
            ],
            [
             1,
             "#276419"
            ]
           ],
           "sequential": [
            [
             0,
             "#0d0887"
            ],
            [
             0.1111111111111111,
             "#46039f"
            ],
            [
             0.2222222222222222,
             "#7201a8"
            ],
            [
             0.3333333333333333,
             "#9c179e"
            ],
            [
             0.4444444444444444,
             "#bd3786"
            ],
            [
             0.5555555555555556,
             "#d8576b"
            ],
            [
             0.6666666666666666,
             "#ed7953"
            ],
            [
             0.7777777777777778,
             "#fb9f3a"
            ],
            [
             0.8888888888888888,
             "#fdca26"
            ],
            [
             1,
             "#f0f921"
            ]
           ],
           "sequentialminus": [
            [
             0,
             "#0d0887"
            ],
            [
             0.1111111111111111,
             "#46039f"
            ],
            [
             0.2222222222222222,
             "#7201a8"
            ],
            [
             0.3333333333333333,
             "#9c179e"
            ],
            [
             0.4444444444444444,
             "#bd3786"
            ],
            [
             0.5555555555555556,
             "#d8576b"
            ],
            [
             0.6666666666666666,
             "#ed7953"
            ],
            [
             0.7777777777777778,
             "#fb9f3a"
            ],
            [
             0.8888888888888888,
             "#fdca26"
            ],
            [
             1,
             "#f0f921"
            ]
           ]
          },
          "colorway": [
           "#636efa",
           "#EF553B",
           "#00cc96",
           "#ab63fa",
           "#FFA15A",
           "#19d3f3",
           "#FF6692",
           "#B6E880",
           "#FF97FF",
           "#FECB52"
          ],
          "font": {
           "color": "#2a3f5f"
          },
          "geo": {
           "bgcolor": "white",
           "lakecolor": "white",
           "landcolor": "#E5ECF6",
           "showlakes": true,
           "showland": true,
           "subunitcolor": "white"
          },
          "hoverlabel": {
           "align": "left"
          },
          "hovermode": "closest",
          "mapbox": {
           "style": "light"
          },
          "paper_bgcolor": "white",
          "plot_bgcolor": "#E5ECF6",
          "polar": {
           "angularaxis": {
            "gridcolor": "white",
            "linecolor": "white",
            "ticks": ""
           },
           "bgcolor": "#E5ECF6",
           "radialaxis": {
            "gridcolor": "white",
            "linecolor": "white",
            "ticks": ""
           }
          },
          "scene": {
           "xaxis": {
            "backgroundcolor": "#E5ECF6",
            "gridcolor": "white",
            "gridwidth": 2,
            "linecolor": "white",
            "showbackground": true,
            "ticks": "",
            "zerolinecolor": "white"
           },
           "yaxis": {
            "backgroundcolor": "#E5ECF6",
            "gridcolor": "white",
            "gridwidth": 2,
            "linecolor": "white",
            "showbackground": true,
            "ticks": "",
            "zerolinecolor": "white"
           },
           "zaxis": {
            "backgroundcolor": "#E5ECF6",
            "gridcolor": "white",
            "gridwidth": 2,
            "linecolor": "white",
            "showbackground": true,
            "ticks": "",
            "zerolinecolor": "white"
           }
          },
          "shapedefaults": {
           "line": {
            "color": "#2a3f5f"
           }
          },
          "ternary": {
           "aaxis": {
            "gridcolor": "white",
            "linecolor": "white",
            "ticks": ""
           },
           "baxis": {
            "gridcolor": "white",
            "linecolor": "white",
            "ticks": ""
           },
           "bgcolor": "#E5ECF6",
           "caxis": {
            "gridcolor": "white",
            "linecolor": "white",
            "ticks": ""
           }
          },
          "title": {
           "x": 0.05
          },
          "xaxis": {
           "automargin": true,
           "gridcolor": "white",
           "linecolor": "white",
           "ticks": "",
           "title": {
            "standoff": 15
           },
           "zerolinecolor": "white",
           "zerolinewidth": 2
          },
          "yaxis": {
           "automargin": true,
           "gridcolor": "white",
           "linecolor": "white",
           "ticks": "",
           "title": {
            "standoff": 15
           },
           "zerolinecolor": "white",
           "zerolinewidth": 2
          }
         }
        },
        "title": {
         "text": "Simple Line Animation"
        },
        "updatemenus": [
         {
          "buttons": [
           {
            "args": [
             null,
             {
              "frame": {
               "duration": 500
              },
              "fromcurrent": true
             }
            ],
            "label": "Play",
            "method": "animate"
           },
           {
            "args": [
             null,
             {
              "frame": {
               "duration": 500
              },
              "fromcurrent": true
             }
            ],
            "label": "Play",
            "method": "animate"
           }
          ],
          "direction": "left",
          "pad": {
           "r": 10,
           "t": 70
          },
          "showactive": false,
          "type": "buttons",
          "x": 0.1,
          "xanchor": "right",
          "y": 0,
          "yanchor": "top"
         }
        ],
        "xaxis": {
         "anchor": "y",
         "categoryarray": [
          1,
          2,
          3,
          4,
          5
         ],
         "categoryorder": "array",
         "domain": [
          0,
          1
         ],
         "range": [
          1,
          5
         ],
         "title": {
          "text": "X"
         }
        },
        "yaxis": {
         "anchor": "x",
         "domain": [
          0,
          1
         ],
         "range": [
          1,
          4
         ],
         "title": {
          "text": "Y"
         }
        }
       }
      }
     },
     "metadata": {},
     "output_type": "display_data"
    }
   ],
   "source": [
    "import plotly.express as px\n",
    "import pandas as pd\n",
    "\n",
    "# Create a pandas DataFrame with your time series data\n",
    "df = pd.DataFrame({'x': [1, 2, 3, 4, 5], 'y': [1, 3, 2, 4, 3]})\n",
    "\n",
    "# Create a line plot with animation frames specified by the \"animation_frame\" parameter\n",
    "fig = px.line(df, x='x', y='y', animation_frame='x', range_x=[1, 5], range_y=[1, 4])\n",
    "\n",
    "# Set animation options\n",
    "fig.update_layout(\n",
    "    title='Simple Line Animation',\n",
    "    xaxis_title='X',\n",
    "    yaxis_title='Y',\n",
    "    updatemenus=[dict(\n",
    "        type='buttons',\n",
    "        showactive=False,\n",
    "        buttons=[dict(\n",
    "            label='Play',\n",
    "            method='animate',\n",
    "            args=[None, dict(frame=dict(duration=500), fromcurrent=True)]\n",
    "        )]\n",
    "    )]\n",
    ")\n",
    "\n",
    "# Show the figure\n",
    "fig.show()\n"
   ]
  },
  {
   "cell_type": "code",
   "execution_count": null,
   "metadata": {},
   "outputs": [],
   "source": []
  }
 ],
 "metadata": {
  "kernelspec": {
   "display_name": "Python 3",
   "language": "python",
   "name": "python3"
  },
  "language_info": {
   "codemirror_mode": {
    "name": "ipython",
    "version": 3
   },
   "file_extension": ".py",
   "mimetype": "text/x-python",
   "name": "python",
   "nbconvert_exporter": "python",
   "pygments_lexer": "ipython3",
   "version": "3.8.10"
  },
  "orig_nbformat": 4,
  "vscode": {
   "interpreter": {
    "hash": "31f2aee4e71d21fbe5cf8b01ff0e069b9275f58929596ceb00d14d90e3e16cd6"
   }
  }
 },
 "nbformat": 4,
 "nbformat_minor": 2
}
